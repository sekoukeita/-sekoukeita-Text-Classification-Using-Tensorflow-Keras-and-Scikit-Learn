{
  "nbformat": 4,
  "nbformat_minor": 0,
  "metadata": {
    "colab": {
      "name": "Tensorflow-hub, Keras and Scikit Learn in Text Classification.ipynb",
      "provenance": [],
      "collapsed_sections": [],
      "toc_visible": true,
      "include_colab_link": true
    },
    "kernelspec": {
      "name": "python3",
      "display_name": "Python 3"
    },
    "accelerator": "GPU"
  },
  "cells": [
    {
      "cell_type": "markdown",
      "metadata": {
        "id": "view-in-github",
        "colab_type": "text"
      },
      "source": [
        "<a href=\"https://colab.research.google.com/github/sekoukeita/-sekoukeita-Text-Classification-Using-Tensorflow-Keras-and-Scikit-Learn/blob/master/Tensorflow_hub%2C_Keras_and_Scikit_Learn_in_Text_Classification.ipynb\" target=\"_parent\"><img src=\"https://colab.research.google.com/assets/colab-badge.svg\" alt=\"Open In Colab\"/></a>"
      ]
    },
    {
      "cell_type": "markdown",
      "metadata": {
        "id": "tSMAnG9ZbwPF",
        "colab_type": "text"
      },
      "source": [
        "# Text Classification with Tensorflow-hub: Movies Reviews"
      ]
    },
    {
      "cell_type": "markdown",
      "metadata": {
        "id": "VExYzol3cOxE",
        "colab_type": "text"
      },
      "source": [
        "## 1- Installing and Importing libraries then printing their different versions"
      ]
    },
    {
      "cell_type": "code",
      "metadata": {
        "id": "yaWrIk1hYNrG",
        "colab_type": "code",
        "outputId": "7416003e-9aa4-4ebf-b067-b249a489a428",
        "colab": {
          "base_uri": "https://localhost:8080/",
          "height": 85
        }
      },
      "source": [
        "from __future__ import absolute_import, division, print_function, unicode_literals\n",
        "\n",
        "!pip install -q tensorflow==2.0\n",
        "!pip install -q tensorflow-hub\n",
        "!pip install -q tensorflow-datasets\n",
        "\n",
        "import numpy as np\n",
        "import tensorflow as tf\n",
        "import tensorflow_hub as hub\n",
        "import tensorflow_datasets as tfds\n",
        "\n",
        "print(\"Version: \", tf.__version__)\n",
        "print(\"Eager mode: \", tf.executing_eagerly())\n",
        "print(\"Hub version: \", hub.__version__)\n",
        "print(\"GPU is\", \"available\" if tf.config.experimental.list_physical_devices(\"GPU\") else \"NOT AVAILABLE\")"
      ],
      "execution_count": 3,
      "outputs": [
        {
          "output_type": "stream",
          "text": [
            "Version:  2.0.0\n",
            "Eager mode:  True\n",
            "Hub version:  0.7.0\n",
            "GPU is NOT AVAILABLE\n"
          ],
          "name": "stdout"
        }
      ]
    },
    {
      "cell_type": "markdown",
      "metadata": {
        "id": "SeR81SqDan3K",
        "colab_type": "text"
      },
      "source": [
        "## 2- Downloading and Exploring Data IMDB (Internet Movie Data Base)"
      ]
    },
    {
      "cell_type": "markdown",
      "metadata": {
        "id": "8oGeeeRgpYH4",
        "colab_type": "text"
      },
      "source": [
        "* Downloading and Spliting the data"
      ]
    },
    {
      "cell_type": "code",
      "metadata": {
        "id": "F3FNVZHeeJdk",
        "colab_type": "code",
        "colab": {}
      },
      "source": [
        "# the data (50,000) is first splited into 2 sets equaly: train(25,000) and test(25,000)\n",
        "# then the train is split into train(60% of train that is 15,000) and validation(40% of train that is 10,000)\n",
        "# finally: train=15,000, validation=10,000 and test=25,000\n",
        "train_data, validation_data, test_data = tfds.load(\n",
        "    name=\"imdb_reviews\", \n",
        "    split=('train[:60%]', 'train[60%:]', 'test'),\n",
        "    as_supervised=True)"
      ],
      "execution_count": 0,
      "outputs": []
    },
    {
      "cell_type": "markdown",
      "metadata": {
        "id": "QAu1ri-nqeu-",
        "colab_type": "text"
      },
      "source": [
        "* Exploring the data"
      ]
    },
    {
      "cell_type": "code",
      "metadata": {
        "id": "YApFSHfMnOib",
        "colab_type": "code",
        "outputId": "a225d3d2-de73-4c02-8964-8dc30892a065",
        "colab": {
          "base_uri": "https://localhost:8080/",
          "height": 173
        }
      },
      "source": [
        "# print 5 reviews and their label\n",
        "train_5_reviews,train_5_labels = next(iter(train_data.batch(5)))\n",
        "print(train_5_reviews,'\\n')\n",
        "print(train_5_labels)"
      ],
      "execution_count": 10,
      "outputs": [
        {
          "output_type": "stream",
          "text": [
            "tf.Tensor(\n",
            "[b\"This was an absolutely terrible movie. Don't be lured in by Christopher Walken or Michael Ironside. Both are great actors, but this must simply be their worst role in history. Even their great acting could not redeem this movie's ridiculous storyline. This movie is an early nineties US propaganda piece. The most pathetic scenes were those when the Columbian rebels were making their cases for revolutions. Maria Conchita Alonso appeared phony, and her pseudo-love affair with Walken was nothing but a pathetic emotional plug in a movie that was devoid of any real meaning. I am disappointed that there are movies like this, ruining actor's like Christopher Walken's good name. I could barely sit through it.\"\n",
            " b'I have been known to fall asleep during films, but this is usually due to a combination of things including, really tired, being warm and comfortable on the sette and having just eaten a lot. However on this occasion I fell asleep because the film was rubbish. The plot development was constant. Constantly slow and boring. Things seemed to happen, but with no explanation of what was causing them or why. I admit, I may have missed part of the film, but i watched the majority of it and everything just seemed to happen of its own accord without any real concern for anything else. I cant recommend this film at all.'\n",
            " b'Mann photographs the Alberta Rocky Mountains in a superb fashion, and Jimmy Stewart and Walter Brennan give enjoyable performances as they always seem to do. <br /><br />But come on Hollywood - a Mountie telling the people of Dawson City, Yukon to elect themselves a marshal (yes a marshal!) and to enforce the law themselves, then gunfighters battling it out on the streets for control of the town? <br /><br />Nothing even remotely resembling that happened on the Canadian side of the border during the Klondike gold rush. Mr. Mann and company appear to have mistaken Dawson City for Deadwood, the Canadian North for the American Wild West.<br /><br />Canadian viewers be prepared for a Reefer Madness type of enjoyable howl with this ludicrous plot, or, to shake your head in disgust.'\n",
            " b'This is the kind of film for a snowy Sunday afternoon when the rest of the world can go ahead with its own business as you descend into a big arm-chair and mellow for a couple of hours. Wonderful performances from Cher and Nicolas Cage (as always) gently row the plot along. There are no rapids to cross, no dangerous waters, just a warm and witty paddle through New York life at its best. A family film in every sense and one that deserves the praise it received.'\n",
            " b'As others have mentioned, all the women that go nude in this film are mostly absolutely gorgeous. The plot very ably shows the hypocrisy of the female libido. When men are around they want to be pursued, but when no \"men\" are around, they become the pursuers of a 14 year old boy. And the boy becomes a man really fast (we should all be so lucky at this age!). He then gets up the courage to pursue his true love.'], shape=(5,), dtype=string) \n",
            "\n",
            "tf.Tensor([0 0 0 1 1], shape=(5,), dtype=int64)\n"
          ],
          "name": "stdout"
        }
      ]
    },
    {
      "cell_type": "markdown",
      "metadata": {
        "id": "fZG9RZg4ow45",
        "colab_type": "text"
      },
      "source": [
        "## 3- Bulding the model"
      ]
    },
    {
      "cell_type": "markdown",
      "metadata": {
        "id": "fyFWneDVrImW",
        "colab_type": "text"
      },
      "source": [
        "* Get the **pre-trained text embedding model** from **tensorflow hub**.\n",
        "  This model preprocesses the text. (Tokenization, vectorization)"
      ]
    },
    {
      "cell_type": "code",
      "metadata": {
        "id": "jQEJ2den1J7Q",
        "colab_type": "code",
        "colab": {}
      },
      "source": [
        "embedding = \"https://tfhub.dev/google/tf2-preview/gnews-swivel-20dim/1\"\n",
        "hub_layer = hub.KerasLayer(embedding,input_shape=[],dtype=tf.string,trainable=True) # create the hub layer (the input layer)"
      ],
      "execution_count": 0,
      "outputs": []
    },
    {
      "cell_type": "code",
      "metadata": {
        "id": "QwXJhUxd4IgF",
        "colab_type": "code",
        "outputId": "6d5865d5-2e61-44d4-c827-cce24313e1c4",
        "colab": {
          "base_uri": "https://localhost:8080/",
          "height": 391
        }
      },
      "source": [
        "# check how the hub layer preprocesses the text on the 5 reviews above\n",
        "hub_layer(train_5_reviews)"
      ],
      "execution_count": 12,
      "outputs": [
        {
          "output_type": "execute_result",
          "data": {
            "text/plain": [
              "<tf.Tensor: id=754, shape=(5, 20), dtype=float32, numpy=\n",
              "array([[ 1.765786  , -3.882232  ,  3.9134233 , -1.5557289 , -3.3362343 ,\n",
              "        -1.7357955 , -1.9954445 ,  1.2989551 ,  5.081598  , -1.1041286 ,\n",
              "        -2.0503852 , -0.72675157, -0.65675956,  0.24436149, -3.7208383 ,\n",
              "         2.0954835 ,  2.2969332 , -2.0689783 , -2.9489717 , -1.1315987 ],\n",
              "       [ 1.8804485 , -2.5852382 ,  3.4066997 ,  1.0982676 , -4.056685  ,\n",
              "        -4.891284  , -2.785554  ,  1.3874227 ,  3.8476458 , -0.9256538 ,\n",
              "        -1.896706  ,  1.2113281 ,  0.11474707,  0.76209456, -4.8791065 ,\n",
              "         2.906149  ,  4.7087674 , -2.3652055 , -3.5015898 , -1.6390051 ],\n",
              "       [ 0.71152234, -0.6353217 ,  1.7385626 , -1.1168286 , -0.5451594 ,\n",
              "        -1.1808156 ,  0.09504455,  1.4653089 ,  0.66059524,  0.79308075,\n",
              "        -2.2268345 ,  0.07446612, -1.4075904 , -0.70645386, -1.907037  ,\n",
              "         1.4419787 ,  1.9551861 , -0.42660055, -2.8022065 ,  0.43727064],\n",
              "       [ 1.5165    , -0.71034056,  1.8556767 , -1.2033532 , -1.3105817 ,\n",
              "        -0.8829813 , -1.1187646 ,  0.5318602 ,  1.0793796 , -1.704331  ,\n",
              "        -2.419896  ,  1.3787876 , -1.5979576 , -0.8075193 , -2.770235  ,\n",
              "         1.4840026 ,  2.2181196 , -1.1752981 , -3.653832  , -0.43227202],\n",
              "       [ 2.2775352 , -2.859779  ,  1.5962925 , -1.229557  , -2.915857  ,\n",
              "        -3.408698  , -1.6590053 ,  0.90293777,  2.820842  ,  0.34331927,\n",
              "        -1.2213763 ,  0.8157163 , -1.3391474 ,  0.24255586, -5.0900426 ,\n",
              "         2.0221164 ,  2.7441626 , -2.8562224 , -3.235116  , -0.24184115]],\n",
              "      dtype=float32)>"
            ]
          },
          "metadata": {
            "tags": []
          },
          "execution_count": 12
        }
      ]
    },
    {
      "cell_type": "markdown",
      "metadata": {
        "id": "LGaUjCWh4vxW",
        "colab_type": "text"
      },
      "source": [
        "* Building the model"
      ]
    },
    {
      "cell_type": "code",
      "metadata": {
        "id": "AE1BPEY45YNP",
        "colab_type": "code",
        "outputId": "f2a4e9eb-87be-4e69-bfcf-281c4bb27e7f",
        "colab": {
          "base_uri": "https://localhost:8080/",
          "height": 255
        }
      },
      "source": [
        "# configure layers\n",
        "model = tf.keras.Sequential([\n",
        "                             hub_layer, # input layer\n",
        "                             tf.keras.layers.Dense(16,activation='relu'), # hidden layer\n",
        "                             tf.keras.layers.Dense(1,activation='sigmoid') # output layer\n",
        "])\n",
        "model.summary()"
      ],
      "execution_count": 13,
      "outputs": [
        {
          "output_type": "stream",
          "text": [
            "Model: \"sequential\"\n",
            "_________________________________________________________________\n",
            "Layer (type)                 Output Shape              Param #   \n",
            "=================================================================\n",
            "keras_layer (KerasLayer)     (None, 20)                400020    \n",
            "_________________________________________________________________\n",
            "dense (Dense)                (None, 16)                336       \n",
            "_________________________________________________________________\n",
            "dense_1 (Dense)              (None, 1)                 17        \n",
            "=================================================================\n",
            "Total params: 400,373\n",
            "Trainable params: 400,373\n",
            "Non-trainable params: 0\n",
            "_________________________________________________________________\n"
          ],
          "name": "stdout"
        }
      ]
    },
    {
      "cell_type": "code",
      "metadata": {
        "id": "QoWjHUgz6Vfp",
        "colab_type": "code",
        "colab": {}
      },
      "source": [
        "# compile the model\n",
        "  # different optimizers and loss functions can be used to twick the model\n",
        "model.compile(optimizer='adam',loss='binary_crossentropy',metrics=['accuracy'])"
      ],
      "execution_count": 0,
      "outputs": []
    },
    {
      "cell_type": "markdown",
      "metadata": {
        "id": "C7SJJweJ8fgO",
        "colab_type": "text"
      },
      "source": [
        "## 4- Training the model"
      ]
    },
    {
      "cell_type": "code",
      "metadata": {
        "id": "emVYqTfZ85Hy",
        "colab_type": "code",
        "outputId": "eb7cc8fd-a78b-4e43-916f-188dd9450c88",
        "colab": {
          "base_uri": "https://localhost:8080/",
          "height": 714
        }
      },
      "source": [
        "# train the model using the train and validation data set\n",
        "model.fit(train_data.shuffle(10000).batch(512),\n",
        "          epochs=20,\n",
        "          validation_data=validation_data.batch(512),\n",
        "          verbose=1\n",
        "          )"
      ],
      "execution_count": 15,
      "outputs": [
        {
          "output_type": "stream",
          "text": [
            "Epoch 1/20\n",
            "30/30 [==============================] - 6s 216ms/step - loss: 1.1304 - accuracy: 0.5289 - val_loss: 0.0000e+00 - val_accuracy: 0.0000e+00\n",
            "Epoch 2/20\n",
            "30/30 [==============================] - 5s 178ms/step - loss: 0.6894 - accuracy: 0.6062 - val_loss: 0.6510 - val_accuracy: 0.6269\n",
            "Epoch 3/20\n",
            "30/30 [==============================] - 6s 188ms/step - loss: 0.6194 - accuracy: 0.6725 - val_loss: 0.5990 - val_accuracy: 0.6799\n",
            "Epoch 4/20\n",
            "30/30 [==============================] - 6s 184ms/step - loss: 0.5711 - accuracy: 0.7147 - val_loss: 0.5622 - val_accuracy: 0.7180\n",
            "Epoch 5/20\n",
            "30/30 [==============================] - 5s 179ms/step - loss: 0.5332 - accuracy: 0.7486 - val_loss: 0.5319 - val_accuracy: 0.7428\n",
            "Epoch 6/20\n",
            "30/30 [==============================] - 6s 187ms/step - loss: 0.4993 - accuracy: 0.7744 - val_loss: 0.5038 - val_accuracy: 0.7658\n",
            "Epoch 7/20\n",
            "30/30 [==============================] - 6s 193ms/step - loss: 0.4688 - accuracy: 0.7959 - val_loss: 0.4781 - val_accuracy: 0.7816\n",
            "Epoch 8/20\n",
            "30/30 [==============================] - 6s 185ms/step - loss: 0.4376 - accuracy: 0.8125 - val_loss: 0.4531 - val_accuracy: 0.8012\n",
            "Epoch 9/20\n",
            "30/30 [==============================] - 5s 180ms/step - loss: 0.4062 - accuracy: 0.8299 - val_loss: 0.4305 - val_accuracy: 0.8136\n",
            "Epoch 10/20\n",
            "30/30 [==============================] - 6s 183ms/step - loss: 0.3832 - accuracy: 0.8457 - val_loss: 0.4092 - val_accuracy: 0.8236\n",
            "Epoch 11/20\n",
            "30/30 [==============================] - 6s 189ms/step - loss: 0.3557 - accuracy: 0.8587 - val_loss: 0.3907 - val_accuracy: 0.8306\n",
            "Epoch 12/20\n",
            "30/30 [==============================] - 6s 188ms/step - loss: 0.3277 - accuracy: 0.8711 - val_loss: 0.3745 - val_accuracy: 0.8377\n",
            "Epoch 13/20\n",
            "30/30 [==============================] - 6s 186ms/step - loss: 0.3088 - accuracy: 0.8815 - val_loss: 0.3603 - val_accuracy: 0.8436\n",
            "Epoch 14/20\n",
            "30/30 [==============================] - 6s 186ms/step - loss: 0.2894 - accuracy: 0.8907 - val_loss: 0.3484 - val_accuracy: 0.8487\n",
            "Epoch 15/20\n",
            "30/30 [==============================] - 6s 191ms/step - loss: 0.2692 - accuracy: 0.8994 - val_loss: 0.3389 - val_accuracy: 0.8548\n",
            "Epoch 16/20\n",
            "30/30 [==============================] - 6s 189ms/step - loss: 0.2532 - accuracy: 0.9063 - val_loss: 0.3305 - val_accuracy: 0.8582\n",
            "Epoch 17/20\n",
            "30/30 [==============================] - 6s 184ms/step - loss: 0.2345 - accuracy: 0.9138 - val_loss: 0.3236 - val_accuracy: 0.8643\n",
            "Epoch 18/20\n",
            "30/30 [==============================] - 6s 188ms/step - loss: 0.2235 - accuracy: 0.9211 - val_loss: 0.3183 - val_accuracy: 0.8654\n",
            "Epoch 19/20\n",
            "30/30 [==============================] - 6s 191ms/step - loss: 0.2067 - accuracy: 0.9263 - val_loss: 0.3147 - val_accuracy: 0.8667\n",
            "Epoch 20/20\n",
            "30/30 [==============================] - 6s 192ms/step - loss: 0.1949 - accuracy: 0.9320 - val_loss: 0.3113 - val_accuracy: 0.8695\n"
          ],
          "name": "stdout"
        },
        {
          "output_type": "execute_result",
          "data": {
            "text/plain": [
              "<tensorflow.python.keras.callbacks.History at 0x7efdce3e6dd8>"
            ]
          },
          "metadata": {
            "tags": []
          },
          "execution_count": 15
        }
      ]
    },
    {
      "cell_type": "markdown",
      "metadata": {
        "id": "SipfEgIzLEZU",
        "colab_type": "text"
      },
      "source": [
        "## 5- Evaluating the model"
      ]
    },
    {
      "cell_type": "code",
      "metadata": {
        "id": "8SexrJNBKr3L",
        "colab_type": "code",
        "outputId": "adb360d0-3717-4306-f868-47ba8a400593",
        "colab": {
          "base_uri": "https://localhost:8080/",
          "height": 102
        }
      },
      "source": [
        "results = model.evaluate(test_data.batch(512), verbose=2)\n",
        "\n",
        "print('After evaluating the model: \\n')\n",
        "for name, value in zip(model.metrics_names, results):\n",
        "  print(\"%s: %.3f\" % (name, value))"
      ],
      "execution_count": 21,
      "outputs": [
        {
          "output_type": "stream",
          "text": [
            "49/49 - 4s - loss: 0.3236 - accuracy: 0.8611\n",
            "After evaluating the model: \n",
            "\n",
            "loss: 0.324\n",
            "accuracy: 0.861\n"
          ],
          "name": "stdout"
        }
      ]
    },
    {
      "cell_type": "markdown",
      "metadata": {
        "id": "DiWEO5q4N9a9",
        "colab_type": "text"
      },
      "source": [
        "## 6- Testing on other data set"
      ]
    },
    {
      "cell_type": "markdown",
      "metadata": {
        "id": "ujAme6g4N9I8",
        "colab_type": "text"
      },
      "source": [
        "* Let's get some reviews on the movie [STAR WARS: THE RISE OF SKYWALKER](https://rottentomatoes.com/m/star_wars_the_rise_of_skywalker/reviews?type=user) and use them to test the model."
      ]
    },
    {
      "cell_type": "code",
      "metadata": {
        "id": "k1z_vfliN8wi",
        "colab_type": "code",
        "colab": {}
      },
      "source": [
        "# dictionary of 10 picked reviews. 5 five stars reviews (good reviews) and 5 one or less star review (bad reviews)\n",
        "dic = {'Review':[\"Great characters, amazing special effects, compelling story line and plot twists.\",\n",
        "                 \"Loved the movie! Has a few issues with pacing but all in all I had a great time watching it and I feel like it wrapped up the saga perfectly!\",\n",
        "                 \"Loved it! Surprises and good twists.\",\n",
        "                 \"Just let go and enjoy the movie. It was a great entry to the Star Wars Skywalker Saga. Just let yourself enjoy it as you would have as a kid.\",\n",
        "                 \"If you can drop all the opinions about what you think it should be and view this movie from a child's perspective you'll have a good time!\",\n",
        "                 \"Although very rushed it started out strong until the god awful ending. Apparently anyone can have the force & anyone can be a force ghost. Completely goes against the history of Star Wars & the history behind the force. Storyline focused on the wrong character. Kylo Ren/Ben Solo deserved more. Too much of a political agenda. The ending truly destroyed the movie.\",\n",
        "                 \"never been so hurt by a film before. Praying that one of the events in the movie will be undone or revisited. It was a terrible film but with some good moments.\",\n",
        "                 \"JJ Abrams only good thing was Lost ( until 5 season ) Looks like somebody said to him : Avengers was hit , do the same with star wars . total Non sense\",\n",
        "                 \"Just wasnt for me. Story, pacing, ending, ouch...\",\n",
        "                 \"Terrible story telling, it's worst then the previous flop... absolute waste of time There is nothing of value in this movie besides memes and jokes\"],\n",
        "       'Author':['Manuel','Scott','Juliette','Ringo','Pedro','Chealse G','Sara M','Anonymous','Tony R','Devin C'],\n",
        "       'stars':[5,5,5,5,5,0.5,1,0.5,1,1],\n",
        "       'Good/Bad':[1,1,1,1,1,0,0,0,0,0]\n",
        "       }"
      ],
      "execution_count": 0,
      "outputs": []
    },
    {
      "cell_type": "code",
      "metadata": {
        "id": "R1VuelMPN7V3",
        "colab_type": "code",
        "colab": {}
      },
      "source": [
        "import pandas as pd"
      ],
      "execution_count": 0,
      "outputs": []
    },
    {
      "cell_type": "code",
      "metadata": {
        "id": "KSkHybC8N696",
        "colab_type": "code",
        "colab": {}
      },
      "source": [
        "df = pd.DataFrame(data=dic, index=['R01','R02','R03','R04','R05','R06','R07','R08','R09','R10'])"
      ],
      "execution_count": 0,
      "outputs": []
    },
    {
      "cell_type": "code",
      "metadata": {
        "id": "xez3wr3tN6JM",
        "colab_type": "code",
        "outputId": "198dd9fc-2c1b-4c8b-9e0f-2d57ab85f400",
        "colab": {
          "base_uri": "https://localhost:8080/",
          "height": 359
        }
      },
      "source": [
        "df"
      ],
      "execution_count": 25,
      "outputs": [
        {
          "output_type": "execute_result",
          "data": {
            "text/html": [
              "<div>\n",
              "<style scoped>\n",
              "    .dataframe tbody tr th:only-of-type {\n",
              "        vertical-align: middle;\n",
              "    }\n",
              "\n",
              "    .dataframe tbody tr th {\n",
              "        vertical-align: top;\n",
              "    }\n",
              "\n",
              "    .dataframe thead th {\n",
              "        text-align: right;\n",
              "    }\n",
              "</style>\n",
              "<table border=\"1\" class=\"dataframe\">\n",
              "  <thead>\n",
              "    <tr style=\"text-align: right;\">\n",
              "      <th></th>\n",
              "      <th>Review</th>\n",
              "      <th>Author</th>\n",
              "      <th>stars</th>\n",
              "      <th>Good/Bad</th>\n",
              "    </tr>\n",
              "  </thead>\n",
              "  <tbody>\n",
              "    <tr>\n",
              "      <th>R01</th>\n",
              "      <td>Great characters, amazing special effects, com...</td>\n",
              "      <td>Manuel</td>\n",
              "      <td>5.0</td>\n",
              "      <td>1</td>\n",
              "    </tr>\n",
              "    <tr>\n",
              "      <th>R02</th>\n",
              "      <td>Loved the movie! Has a few issues with pacing ...</td>\n",
              "      <td>Scott</td>\n",
              "      <td>5.0</td>\n",
              "      <td>1</td>\n",
              "    </tr>\n",
              "    <tr>\n",
              "      <th>R03</th>\n",
              "      <td>Loved it! Surprises and good twists.</td>\n",
              "      <td>Juliette</td>\n",
              "      <td>5.0</td>\n",
              "      <td>1</td>\n",
              "    </tr>\n",
              "    <tr>\n",
              "      <th>R04</th>\n",
              "      <td>Just let go and enjoy the movie. It was a grea...</td>\n",
              "      <td>Ringo</td>\n",
              "      <td>5.0</td>\n",
              "      <td>1</td>\n",
              "    </tr>\n",
              "    <tr>\n",
              "      <th>R05</th>\n",
              "      <td>If you can drop all the opinions about what yo...</td>\n",
              "      <td>Pedro</td>\n",
              "      <td>5.0</td>\n",
              "      <td>1</td>\n",
              "    </tr>\n",
              "    <tr>\n",
              "      <th>R06</th>\n",
              "      <td>Although very rushed it started out strong unt...</td>\n",
              "      <td>Chealse G</td>\n",
              "      <td>0.5</td>\n",
              "      <td>0</td>\n",
              "    </tr>\n",
              "    <tr>\n",
              "      <th>R07</th>\n",
              "      <td>never been so hurt by a film before. Praying t...</td>\n",
              "      <td>Sara M</td>\n",
              "      <td>1.0</td>\n",
              "      <td>0</td>\n",
              "    </tr>\n",
              "    <tr>\n",
              "      <th>R08</th>\n",
              "      <td>JJ Abrams only good thing was Lost ( until 5 s...</td>\n",
              "      <td>Anonymous</td>\n",
              "      <td>0.5</td>\n",
              "      <td>0</td>\n",
              "    </tr>\n",
              "    <tr>\n",
              "      <th>R09</th>\n",
              "      <td>Just wasnt for me. Story, pacing, ending, ouch...</td>\n",
              "      <td>Tony R</td>\n",
              "      <td>1.0</td>\n",
              "      <td>0</td>\n",
              "    </tr>\n",
              "    <tr>\n",
              "      <th>R10</th>\n",
              "      <td>Terrible story telling, it's worst then the pr...</td>\n",
              "      <td>Devin C</td>\n",
              "      <td>1.0</td>\n",
              "      <td>0</td>\n",
              "    </tr>\n",
              "  </tbody>\n",
              "</table>\n",
              "</div>"
            ],
            "text/plain": [
              "                                                Review  ... Good/Bad\n",
              "R01  Great characters, amazing special effects, com...  ...        1\n",
              "R02  Loved the movie! Has a few issues with pacing ...  ...        1\n",
              "R03               Loved it! Surprises and good twists.  ...        1\n",
              "R04  Just let go and enjoy the movie. It was a grea...  ...        1\n",
              "R05  If you can drop all the opinions about what yo...  ...        1\n",
              "R06  Although very rushed it started out strong unt...  ...        0\n",
              "R07  never been so hurt by a film before. Praying t...  ...        0\n",
              "R08  JJ Abrams only good thing was Lost ( until 5 s...  ...        0\n",
              "R09  Just wasnt for me. Story, pacing, ending, ouch...  ...        0\n",
              "R10  Terrible story telling, it's worst then the pr...  ...        0\n",
              "\n",
              "[10 rows x 4 columns]"
            ]
          },
          "metadata": {
            "tags": []
          },
          "execution_count": 25
        }
      ]
    },
    {
      "cell_type": "markdown",
      "metadata": {
        "id": "cNaeuzlSEanU",
        "colab_type": "text"
      },
      "source": [
        "* Get the data and labels in form of np array (not pandas series) in order to test the model"
      ]
    },
    {
      "cell_type": "code",
      "metadata": {
        "id": "5HThjEhCN56O",
        "colab_type": "code",
        "colab": {}
      },
      "source": [
        "# get the data (reviews sentences).\n",
        "review_data = np.array(df['Review'])"
      ],
      "execution_count": 0,
      "outputs": []
    },
    {
      "cell_type": "code",
      "metadata": {
        "id": "V2M0CWYUVLCa",
        "colab_type": "code",
        "outputId": "c8210f7c-28ed-43b4-af7e-d0bcdf0e7573",
        "colab": {
          "base_uri": "https://localhost:8080/",
          "height": 224
        }
      },
      "source": [
        "review_data"
      ],
      "execution_count": 27,
      "outputs": [
        {
          "output_type": "execute_result",
          "data": {
            "text/plain": [
              "array(['Great characters, amazing special effects, compelling story line and plot twists.',\n",
              "       'Loved the movie! Has a few issues with pacing but all in all I had a great time watching it and I feel like it wrapped up the saga perfectly!',\n",
              "       'Loved it! Surprises and good twists.',\n",
              "       'Just let go and enjoy the movie. It was a great entry to the Star Wars Skywalker Saga. Just let yourself enjoy it as you would have as a kid.',\n",
              "       \"If you can drop all the opinions about what you think it should be and view this movie from a child's perspective you'll have a good time!\",\n",
              "       'Although very rushed it started out strong until the god awful ending. Apparently anyone can have the force & anyone can be a force ghost. Completely goes against the history of Star Wars & the history behind the force. Storyline focused on the wrong character. Kylo Ren/Ben Solo deserved more. Too much of a political agenda. The ending truly destroyed the movie.',\n",
              "       'never been so hurt by a film before. Praying that one of the events in the movie will be undone or revisited. It was a terrible film but with some good moments.',\n",
              "       'JJ Abrams only good thing was Lost ( until 5 season ) Looks like somebody said to him : Avengers was hit , do the same with star wars . total Non sense',\n",
              "       'Just wasnt for me. Story, pacing, ending, ouch...',\n",
              "       \"Terrible story telling, it's worst then the previous flop... absolute waste of time There is nothing of value in this movie besides memes and jokes\"],\n",
              "      dtype=object)"
            ]
          },
          "metadata": {
            "tags": []
          },
          "execution_count": 27
        }
      ]
    },
    {
      "cell_type": "code",
      "metadata": {
        "id": "b7fuh3t-N5l3",
        "colab_type": "code",
        "colab": {}
      },
      "source": [
        "# get the labels (1 for good or 0 for bad).\n",
        "review_label = np.array(df['Good/Bad'])"
      ],
      "execution_count": 0,
      "outputs": []
    },
    {
      "cell_type": "code",
      "metadata": {
        "id": "CFQTNpEPE_Yh",
        "colab_type": "code",
        "outputId": "9cff8842-f7f1-4458-e4a0-4042f623bef4",
        "colab": {
          "base_uri": "https://localhost:8080/",
          "height": 34
        }
      },
      "source": [
        "review_label"
      ],
      "execution_count": 29,
      "outputs": [
        {
          "output_type": "execute_result",
          "data": {
            "text/plain": [
              "array([1, 1, 1, 1, 1, 0, 0, 0, 0, 0])"
            ]
          },
          "metadata": {
            "tags": []
          },
          "execution_count": 29
        }
      ]
    },
    {
      "cell_type": "markdown",
      "metadata": {
        "id": "B_nibF3EFynB",
        "colab_type": "text"
      },
      "source": [
        "* Predictions on the data"
      ]
    },
    {
      "cell_type": "code",
      "metadata": {
        "id": "CH6IH3VfUdgS",
        "colab_type": "code",
        "colab": {}
      },
      "source": [
        "review_predictions = model.predict(review_data)"
      ],
      "execution_count": 0,
      "outputs": []
    },
    {
      "cell_type": "code",
      "metadata": {
        "id": "_ZKRg6WFUdRU",
        "colab_type": "code",
        "outputId": "69745bb2-9b73-4b4d-c5b9-ca4b26586dea",
        "colab": {
          "base_uri": "https://localhost:8080/",
          "height": 187
        }
      },
      "source": [
        "# the result is an array of 10 elements representing the probability that the review is good or bad.\n",
        "review_predictions"
      ],
      "execution_count": 31,
      "outputs": [
        {
          "output_type": "execute_result",
          "data": {
            "text/plain": [
              "array([[0.89827377],\n",
              "       [0.90774465],\n",
              "       [0.87103516],\n",
              "       [0.925084  ],\n",
              "       [0.6942902 ],\n",
              "       [0.529283  ],\n",
              "       [0.52531147],\n",
              "       [0.22333205],\n",
              "       [0.37560692],\n",
              "       [0.00660934]], dtype=float32)"
            ]
          },
          "metadata": {
            "tags": []
          },
          "execution_count": 31
        }
      ]
    },
    {
      "cell_type": "code",
      "metadata": {
        "id": "qRZ-hN1kUdEl",
        "colab_type": "code",
        "colab": {}
      },
      "source": [
        "# let's adjust this array so that the number are 0 or 1 according to their distance to 0 or 1 using a function.\n",
        "\n",
        "def adjust(pred):\n",
        "  adjusted_predictions = []\n",
        "  for elt in pred:\n",
        "    if elt[0] < 0.5:\n",
        "      adjusted_predictions.append(0)\n",
        "    else:\n",
        "      adjusted_predictions.append(1)\n",
        "  return np.array(adjusted_predictions)"
      ],
      "execution_count": 0,
      "outputs": []
    },
    {
      "cell_type": "code",
      "metadata": {
        "id": "7OCUOg5RUc2D",
        "colab_type": "code",
        "outputId": "ed577307-d74e-4408-fcbd-5f40ae7499df",
        "colab": {
          "base_uri": "https://localhost:8080/",
          "height": 34
        }
      },
      "source": [
        "# the result is a np array \n",
        "review_predictions = adjust(review_predictions)\n",
        "review_predictions"
      ],
      "execution_count": 33,
      "outputs": [
        {
          "output_type": "execute_result",
          "data": {
            "text/plain": [
              "array([1, 1, 1, 1, 1, 1, 1, 0, 0, 0])"
            ]
          },
          "metadata": {
            "tags": []
          },
          "execution_count": 33
        }
      ]
    },
    {
      "cell_type": "markdown",
      "metadata": {
        "id": "HBDaeY5oKGVW",
        "colab_type": "text"
      },
      "source": [
        "* Using sklearn to evaluate the model on the new data."
      ]
    },
    {
      "cell_type": "code",
      "metadata": {
        "id": "f02k0PTaH0v8",
        "colab_type": "code",
        "colab": {}
      },
      "source": [
        "from sklearn.metrics import confusion_matrix,classification_report"
      ],
      "execution_count": 0,
      "outputs": []
    },
    {
      "cell_type": "code",
      "metadata": {
        "id": "uUJR1CeuHz6e",
        "colab_type": "code",
        "outputId": "c4732aa2-9d89-4375-ee76-40f3d84df4d8",
        "colab": {
          "base_uri": "https://localhost:8080/",
          "height": 221
        }
      },
      "source": [
        "print(confusion_matrix(review_label,review_predictions),'\\n')\n",
        "print(classification_report(review_label,review_predictions))"
      ],
      "execution_count": 35,
      "outputs": [
        {
          "output_type": "stream",
          "text": [
            "[[3 2]\n",
            " [0 5]] \n",
            "\n",
            "              precision    recall  f1-score   support\n",
            "\n",
            "           0       1.00      0.60      0.75         5\n",
            "           1       0.71      1.00      0.83         5\n",
            "\n",
            "    accuracy                           0.80        10\n",
            "   macro avg       0.86      0.80      0.79        10\n",
            "weighted avg       0.86      0.80      0.79        10\n",
            "\n"
          ],
          "name": "stdout"
        }
      ]
    },
    {
      "cell_type": "code",
      "metadata": {
        "id": "FNzIvSivKI62",
        "colab_type": "code",
        "colab": {}
      },
      "source": [
        "# Note: The model get 9/10. The review 'Just wasnt for me. Story, pacing, ending, ouch...' were the model was wrong wasn't \n",
        "# long enough for the model to well perform. "
      ],
      "execution_count": 0,
      "outputs": []
    },
    {
      "cell_type": "code",
      "metadata": {
        "id": "oHJ3Cg0GnO8p",
        "colab_type": "code",
        "colab": {}
      },
      "source": [
        ""
      ],
      "execution_count": 0,
      "outputs": []
    }
  ]
}